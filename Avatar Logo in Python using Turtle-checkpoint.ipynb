{
 "cells": [
  {
   "cell_type": "code",
   "execution_count": null,
   "id": "18db44d3",
   "metadata": {},
   "outputs": [],
   "source": [
    "from turtle import *\n",
    "speed(0)\n",
    "bgcolor('black')\n",
    "color('red')\n",
    "hideturtle()\n",
    "n=1\n",
    "p=True\n",
    "while True:\n",
    "    circle(n)\n",
    "    if p:\n",
    "        n=n-1\n",
    "    else:\n",
    "        n=n+1\n",
    "    if n==0 or n==60:\n",
    "        p=not p\n",
    "    left(1)\n",
    "    forward(3)"
   ]
  },
  {
   "cell_type": "code",
   "execution_count": null,
   "id": "7a9a43c3",
   "metadata": {},
   "outputs": [],
   "source": []
  }
 ],
 "metadata": {
  "kernelspec": {
   "display_name": "Python 3 (ipykernel)",
   "language": "python",
   "name": "python3"
  },
  "language_info": {
   "codemirror_mode": {
    "name": "ipython",
    "version": 3
   },
   "file_extension": ".py",
   "mimetype": "text/x-python",
   "name": "python",
   "nbconvert_exporter": "python",
   "pygments_lexer": "ipython3",
   "version": "3.9.7"
  }
 },
 "nbformat": 4,
 "nbformat_minor": 5
}
