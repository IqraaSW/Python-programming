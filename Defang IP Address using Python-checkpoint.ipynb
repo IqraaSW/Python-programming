{
 "cells": [
  {
   "cell_type": "code",
   "execution_count": null,
   "id": "70769878",
   "metadata": {},
   "outputs": [],
   "source": [
    "def ip_address(address):\n",
    "    new_address = \"\"\n",
    "    split_address = address.split(\".\")\n",
    "    seperator = \"[.]\"\n",
    "    new_address = seperator .join(split_address)\n",
    "    return new_address\n",
    "IP = input(\"Enter your IP address:\")\n",
    "ipaddress = ip_address(IP)\n",
    "print(ipaddress)\n",
    "\n",
    "\n",
    "    \n",
    "    "
   ]
  }
 ],
 "metadata": {
  "kernelspec": {
   "display_name": "Python 3 (ipykernel)",
   "language": "python",
   "name": "python3"
  },
  "language_info": {
   "codemirror_mode": {
    "name": "ipython",
    "version": 3
   },
   "file_extension": ".py",
   "mimetype": "text/x-python",
   "name": "python",
   "nbconvert_exporter": "python",
   "pygments_lexer": "ipython3",
   "version": "3.9.7"
  }
 },
 "nbformat": 4,
 "nbformat_minor": 5
}
