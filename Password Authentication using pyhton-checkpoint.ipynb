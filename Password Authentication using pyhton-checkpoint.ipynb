{
 "cells": [
  {
   "cell_type": "code",
   "execution_count": null,
   "id": "f423fe2f",
   "metadata": {},
   "outputs": [],
   "source": [
    "import getpass\n",
    "database = {\"clcoding\": \"1234567\", \"pythonclcoding\": \"2502\"}\n",
    "username = input(\"Enter your username\")\n",
    "password = getpass.getpass(\"Enter your password\")\n",
    "for i in database.keys():\n",
    "    if username == i:\n",
    "        while password != database.get(i):\n",
    "             password = getpass.getpass(\"Enter your password again:  \")\n",
    "        break\n",
    "    print(\"Verified\")    \n",
    "                \n",
    "            \n",
    "    "
   ]
  }
 ],
 "metadata": {
  "kernelspec": {
   "display_name": "Python 3 (ipykernel)",
   "language": "python",
   "name": "python3"
  },
  "language_info": {
   "codemirror_mode": {
    "name": "ipython",
    "version": 3
   },
   "file_extension": ".py",
   "mimetype": "text/x-python",
   "name": "python",
   "nbconvert_exporter": "python",
   "pygments_lexer": "ipython3",
   "version": "3.9.7"
  }
 },
 "nbformat": 4,
 "nbformat_minor": 5
}
