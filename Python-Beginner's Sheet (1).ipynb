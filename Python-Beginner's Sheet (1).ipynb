{
 "cells": [
  {
   "cell_type": "code",
   "execution_count": 1,
   "id": "45f63539",
   "metadata": {},
   "outputs": [
    {
     "name": "stdout",
     "output_type": "stream",
     "text": [
      "Hello World!\n"
     ]
    }
   ],
   "source": [
    "\n",
    "#----Vaiables and String----\n",
    "print(\"Hello World!\")\n"
   ]
  },
  {
   "cell_type": "code",
   "execution_count": 3,
   "id": "08749d64",
   "metadata": {},
   "outputs": [
    {
     "name": "stdout",
     "output_type": "stream",
     "text": [
      "Hello World\n"
     ]
    }
   ],
   "source": [
    "#Hello World with a variable\n",
    "message=\"Hello World\"\n",
    "print(message)"
   ]
  },
  {
   "cell_type": "code",
   "execution_count": 4,
   "id": "2d05fa5e",
   "metadata": {},
   "outputs": [
    {
     "name": "stdout",
     "output_type": "stream",
     "text": [
      "Iqra Irfan\n"
     ]
    }
   ],
   "source": [
    "#Concatenation (we combine strings in concatenation)\n",
    "first_name='Iqra'\n",
    "last_name='Irfan'\n",
    "full_name=first_name+' '+last_name\n",
    "print(full_name)"
   ]
  },
  {
   "cell_type": "code",
   "execution_count": 7,
   "id": "c5014f30",
   "metadata": {},
   "outputs": [
    {
     "name": "stdout",
     "output_type": "stream",
     "text": [
      "['chocolate cake', 'Fudge cake', 'Ice cake']\n",
      "chocolate cake\n",
      "Ice cake\n",
      "chocolate cake\n",
      "Fudge cake\n",
      "Ice cake\n"
     ]
    }
   ],
   "source": [
    "#-------Lists------\n",
    "# list stores a series of items in a particular order. you access items using an index. or within a loop\n",
    "# Make a list\n",
    "cake=['chocolate cake','Fudge cake','Ice cake']\n",
    "print(cake)\n",
    "\n",
    "# Get first item in a list\n",
    "first_cake=cake[0] \n",
    "print(first_cake)\n",
    "\n",
    "#Get last item in a list\n",
    "last_cake=cake[-1]\n",
    "print(last_cake)\n",
    "\n",
    "#Looping through a list\n",
    "for cake in cake:\n",
    "    print(cake)"
   ]
  },
  {
   "cell_type": "code",
   "execution_count": 8,
   "id": "2ba95cf6",
   "metadata": {},
   "outputs": [
    {
     "name": "stdout",
     "output_type": "stream",
     "text": [
      "['Pineapple Cake', 'Coffe Cake', 'Tutti Frutti Cake', 'Coffee Caramel cake']\n"
     ]
    }
   ],
   "source": [
    "#Adding items in a list\n",
    "cake=[]\n",
    "cake.append('Pineapple Cake')\n",
    "cake.append('Coffe Cake')\n",
    "cake.append('Tutti Frutti Cake')\n",
    "cake.append('Coffee Caramel cake')\n",
    "print(cake)"
   ]
  },
  {
   "cell_type": "code",
   "execution_count": 9,
   "id": "27b4fd9e",
   "metadata": {},
   "outputs": [
    {
     "name": "stdout",
     "output_type": "stream",
     "text": [
      "[1, 4, 9, 16, 25, 36, 49, 64, 81, 100]\n"
     ]
    }
   ],
   "source": [
    "#Making numerical lists\n",
    "# Square \n",
    "squares=[]\n",
    "for x in range(1,11):\n",
    "    squares.append(x**2)\n",
    "print(squares)  "
   ]
  },
  {
   "cell_type": "code",
   "execution_count": 10,
   "id": "da2a688b",
   "metadata": {},
   "outputs": [
    {
     "name": "stdout",
     "output_type": "stream",
     "text": [
      "[1, 4, 9, 16, 25, 36, 49, 64, 81, 100]\n"
     ]
    }
   ],
   "source": [
    "\n",
    "#list comprehensions using for loop\n",
    "squares=[x**2 for x in range(1,11)]\n",
    "print(squares)"
   ]
  },
  {
   "cell_type": "code",
   "execution_count": 11,
   "id": "95ece977",
   "metadata": {},
   "outputs": [
    {
     "name": "stdout",
     "output_type": "stream",
     "text": [
      "['Shaheen', 'Babar']\n",
      "['Shaheen', 'Babar', 'Rauf']\n",
      "['Shaheen', 'Babar', 'Rauf', 'Haris']\n",
      "['Rauf', 'Haris', 'Shoaib', 'Shadab']\n"
     ]
    }
   ],
   "source": [
    "#Slicing a list\n",
    "players=['Shaheen','Babar','Rauf','Haris','Shoaib','Shadab','Hafeez']\n",
    "player_two=players[0:2]\n",
    "print(player_two)\n",
    "player_three=players[0:3]\n",
    "print(player_three)\n",
    "player_four=players[0:4]\n",
    "print(player_four)\n",
    "player_pl=players[2:6]\n",
    "print(player_pl)"
   ]
  },
  {
   "cell_type": "code",
   "execution_count": 12,
   "id": "d80f8dc9",
   "metadata": {},
   "outputs": [
    {
     "name": "stdout",
     "output_type": "stream",
     "text": [
      "['Shaheen', 'Babar', 'Rauf', 'Haris', 'Shoaib', 'Shadab', 'Hafeez']\n"
     ]
    }
   ],
   "source": [
    "#Copying a list\n",
    "copy_of_players=players[:]\n",
    "print(copy_of_players)"
   ]
  },
  {
   "cell_type": "code",
   "execution_count": 13,
   "id": "f11750a7",
   "metadata": {},
   "outputs": [
    {
     "name": "stdout",
     "output_type": "stream",
     "text": [
      "(1920, 1080)\n"
     ]
    }
   ],
   "source": [
    "#----Tuples-----\n",
    "# Tuples are similar to lists, but the items in a tuple can't be modified\n",
    "# Making a tuple\n",
    "dimension=(1920,1080)\n",
    "print(dimension)"
   ]
  },
  {
   "cell_type": "code",
   "execution_count": 15,
   "id": "fe00a99e",
   "metadata": {},
   "outputs": [
    {
     "name": "stdout",
     "output_type": "stream",
     "text": [
      "You are not eligible\n"
     ]
    }
   ],
   "source": [
    "# If statements\n",
    "# If statement are used to test for particular conditions and respond appropriately.\n",
    "# Conditionaltest\n",
    "# equals  x==2\n",
    "# not equals x!=2\n",
    "# greater than x>2\n",
    "# or equal to x>=2\n",
    "# less than x<2\n",
    "# or equal to x<=2\n",
    "# A simple if test\n",
    "age=12\n",
    "if age>=18:\n",
    "    print(\"You can vote!\")\n",
    "else:\n",
    "    print(\"You are not eligible\")"
   ]
  },
  {
   "cell_type": "code",
   "execution_count": 16,
   "id": "ac3075c7",
   "metadata": {},
   "outputs": [
    {
     "name": "stdout",
     "output_type": "stream",
     "text": [
      "1500\n"
     ]
    }
   ],
   "source": [
    "#---- If-elif-else statement\n",
    "age=25\n",
    "if age<4:\n",
    "    ticket_price=0  \n",
    "elif age<18:\n",
    "    ticket_price=100\n",
    "else:\n",
    "    ticket_price=1500\n",
    "    print(ticket_price) \n",
    "   "
   ]
  },
  {
   "cell_type": "code",
   "execution_count": 17,
   "id": "a780d59d",
   "metadata": {},
   "outputs": [
    {
     "name": "stdout",
     "output_type": "stream",
     "text": [
      "False\n"
     ]
    }
   ],
   "source": [
    "#--- Assigning boolean values\n",
    "game_active=True\n",
    "can_edit=False\n",
    "print(can_edit)"
   ]
  },
  {
   "cell_type": "code",
   "execution_count": 18,
   "id": "7366c2b1",
   "metadata": {},
   "outputs": [
    {
     "name": "stdout",
     "output_type": "stream",
     "text": [
      "The alien's color is green\n"
     ]
    }
   ],
   "source": [
    "#---- Dictonaries\n",
    "# Dictonaries stores connection between pieces of information. Each item in a dictonary is a key value pair.\n",
    "# A simple dictonary\n",
    "alien={'color': \"green\",\"points\":5}\n",
    "# Accessing a value\n",
    "print(\"The alien's color is \" + alien['color'])\n",
    "# Adding a key value pair\n",
    "alien['x_position'] = 0"
   ]
  },
  {
   "cell_type": "code",
   "execution_count": 19,
   "id": "ef684586",
   "metadata": {},
   "outputs": [
    {
     "name": "stdout",
     "output_type": "stream",
     "text": [
      "haaris loves 4\n",
      "khuram loves 6\n"
     ]
    }
   ],
   "source": [
    " # looping through all key-value pairs\n",
    "fav_numbers= {'haaris':4,'khuram':6}\n",
    "for name, numbers in fav_numbers.items():\n",
    "    print(name +  ' loves ' + str(numbers))"
   ]
  },
  {
   "cell_type": "code",
   "execution_count": 20,
   "id": "b4791b05",
   "metadata": {},
   "outputs": [
    {
     "name": "stdout",
     "output_type": "stream",
     "text": [
      "haaris loves a number\n",
      "khuram loves a number\n"
     ]
    }
   ],
   "source": [
    "#looping through all keys\n",
    "fav_numbers= {'haaris':4,'khuram':6}\n",
    "for name in fav_numbers.keys():\n",
    "    print(name +  ' loves a number')"
   ]
  },
  {
   "cell_type": "code",
   "execution_count": 21,
   "id": "2418aa4c",
   "metadata": {},
   "outputs": [
    {
     "name": "stdout",
     "output_type": "stream",
     "text": [
      "4 is a favorite \n",
      "6 is a favorite \n"
     ]
    }
   ],
   "source": [
    "#looping through all the values\n",
    "fav_numbers={'haaris':4,'khuram':6}\n",
    "for numbers in fav_numbers.values():\n",
    "    print(str(numbers) + ' is a favorite ')"
   ]
  },
  {
   "cell_type": "code",
   "execution_count": 22,
   "id": "e1292ebc",
   "metadata": {},
   "outputs": [
    {
     "name": "stdout",
     "output_type": "stream",
     "text": [
      "What is your name? Iqra Irfan!\n",
      "Assalam o alaykum,  Iqra Irfan!!\n"
     ]
    }
   ],
   "source": [
    "#---User Input\n",
    "# Your program can prompt user for input. All input is stored as a string.\n",
    "# -----Prompting for a value-----\n",
    "name=input(\"What is your name? \")\n",
    "print(\"Assalam o alaykum,  \"+ name + \"!\")"
   ]
  },
  {
   "cell_type": "code",
   "execution_count": 24,
   "id": "f2f30163",
   "metadata": {},
   "outputs": [
    {
     "name": "stdout",
     "output_type": "stream",
     "text": [
      "How old are you?  20\n",
      "20\n"
     ]
    }
   ],
   "source": [
    "#----- Prompting for numerical input\n",
    "age = input(\"How old are you?  \")\n",
    "age = int(age)\n",
    "print(age)"
   ]
  },
  {
   "cell_type": "code",
   "execution_count": 26,
   "id": "cb7b13c7",
   "metadata": {},
   "outputs": [
    {
     "name": "stdout",
     "output_type": "stream",
     "text": [
      "What's the value of pi?3.14\n",
      "3.14\n"
     ]
    }
   ],
   "source": [
    "pi = input(\"What's the value of pi?\")\n",
    "pi = float(pi)\n",
    "print(pi)"
   ]
  },
  {
   "cell_type": "code",
   "execution_count": 27,
   "id": "fd81b363",
   "metadata": {},
   "outputs": [
    {
     "name": "stdout",
     "output_type": "stream",
     "text": [
      "1\n",
      "2\n",
      "3\n",
      "4\n",
      "5\n"
     ]
    }
   ],
   "source": [
    "#---- While loops\n",
    "#--- A simple while loop------\n",
    "current_value = 1\n",
    "while current_value<=5:\n",
    "    print(current_value)\n",
    "    current_value+=1"
   ]
  },
  {
   "cell_type": "code",
   "execution_count": 50,
   "id": "60f60a3e",
   "metadata": {},
   "outputs": [],
   "source": [
    "# Dictonaries\n",
    "# Nesting\n",
    "# Storing dictonaries in a list\n",
    "# Start with an empty list.\n",
    "users=[]\n",
    "# Make a new user, and add them into list\n",
    "new_user = [ \n",
    "    {\n",
    "    'first:' 'Iqra',\n",
    "    'last:'  'Irfan',\n",
    "    'username:' 'Iqra Irfan',\n",
    "    },\n",
    "    {\n",
    "    'first:' 'Emaan',\n",
    "    'last:'  'Irfan',\n",
    "    'username:' 'Emaan Irfan',    \n",
    "    },\n",
    "]\n",
    "#Show all information about each user\n",
    "for user_dict in users:\n",
    "    print(users)\n",
    "    for k, v in user_dict.items():\n",
    "        print(k + \": \" + v)\n",
    "    print(\"\\n\")     "
   ]
  },
  {
   "cell_type": "code",
   "execution_count": 51,
   "id": "48d82471",
   "metadata": {},
   "outputs": [
    {
     "name": "stdout",
     "output_type": "stream",
     "text": [
      "Iqra: \n",
      "  python\n",
      "  javascript\n",
      "Emaan: \n",
      "  java\n",
      "  C++\n",
      "Alyana: \n",
      "  Ruby\n",
      "  HTML\n",
      "  CSS\n",
      "Sarah: \n",
      "  Dart\n",
      "  Kotlin\n"
     ]
    }
   ],
   "source": [
    "# Sorting list in dictonaries\n",
    "# Store programming languages for each person\n",
    "fav_languages = {\n",
    "    'Iqra': ['python','javascript'],\n",
    "    'Emaan': ['java','C++'],\n",
    "    'Alyana': ['Ruby','HTML','CSS'],\n",
    "    'Sarah': ['Dart','Kotlin'],\n",
    "}\n",
    "# Show all responses for each person,\n",
    "for name, langs in fav_languages.items():\n",
    "    print(name + \": \")\n",
    "    for lang in langs:\n",
    "        print(\"  \" + lang)"
   ]
  },
  {
   "cell_type": "code",
   "execution_count": 71,
   "id": "c447615a",
   "metadata": {},
   "outputs": [
    {
     "name": "stdout",
     "output_type": "stream",
     "text": [
      "Iqra:\n",
      "  Python\n",
      "  Javascript\n",
      "Emaan:\n",
      "  Java\n",
      "  C++\n",
      "Alyana:\n",
      "  Ruby\n",
      "  HTML\n",
      "  CSS\n",
      "Sarah:\n",
      "  Dart\n",
      "  Kotlin\n"
     ]
    }
   ],
   "source": [
    "# Using an OrderedDict\n",
    "from collections import OrderedDict\n",
    "# Store each person's language \n",
    "# keep tracks and check who responds first\n",
    "fav_languages = OrderedDict()\n",
    "\n",
    "fav_languages['Iqra'] = ['Python','Javascript']\n",
    "fav_languages['Emaan'] = ['Java', 'C++']\n",
    "fav_languages['Alyana'] = ['Ruby','HTML','CSS']\n",
    "fav_languages['Sarah'] = ['Dart', 'Kotlin']\n",
    "#Display result\n",
    "for name, langs in fav_languages.items():\n",
    "    print(name + \":\")\n",
    "    for lang in langs:\n",
    "        print(\"  \" + lang)\n"
   ]
  },
  {
   "cell_type": "code",
   "execution_count": 72,
   "id": "6b52f3fd",
   "metadata": {},
   "outputs": [
    {
     "name": "stdout",
     "output_type": "stream",
     "text": [
      "You can play badminton!\n"
     ]
    }
   ],
   "source": [
    "# Conditional test with lists\n",
    "banned_users = ['Wajiha','Wardah','Zunaira']\n",
    "user = 'Emaan'\n",
    "if user not in banned_users:\n",
    "    print(\"You can play badminton!\")"
   ]
  },
  {
   "cell_type": "code",
   "execution_count": 74,
   "id": "c217874e",
   "metadata": {},
   "outputs": [
    {
     "name": "stdout",
     "output_type": "stream",
     "text": [
      "Player: Babar\n",
      "Player: Haris\n",
      "Player: Shaheen\n",
      "Player: Shadab\n",
      "Player: Hasan\n",
      "Player: Rizwan\n"
     ]
    }
   ],
   "source": [
    "# Checking if a list is empty\n",
    "players = ['Babar','Haris','Shaheen','Shadab','Hasan','Rizwan']\n",
    "if players:\n",
    "    for player in players:\n",
    "        print(\"Player: \" + player.title())\n",
    "else:\n",
    "    print(\"We have no players yet!!\")"
   ]
  },
  {
   "cell_type": "code",
   "execution_count": 75,
   "id": "3c65ab35",
   "metadata": {},
   "outputs": [
    {
     "name": "stdout",
     "output_type": "stream",
     "text": [
      "\n",
      " Enter 'quit' to end the programquit\n"
     ]
    }
   ],
   "source": [
    "# using a flag\n",
    "msg = \"\\nTell me something, and I'll \"\n",
    "msg = \"repeat it back to you.\"\n",
    "msg = \"\\n Enter 'quit' to end the program\"\n",
    "\n",
    "active = True\n",
    "while active:\n",
    "    message = input(msg)\n",
    "    \n",
    "    if message == 'quit':\n",
    "        active = False\n",
    "    else:\n",
    "        print(message)"
   ]
  },
  {
   "cell_type": "code",
   "execution_count": 79,
   "id": "381ca32f",
   "metadata": {},
   "outputs": [
    {
     "name": "stdout",
     "output_type": "stream",
     "text": [
      "\n",
      " Enter quit when you are done with it...Islamabad\n",
      "I'v been to Islamabad!\n",
      "\n",
      " Enter quit when you are done with it...quit\n"
     ]
    }
   ],
   "source": [
    "# using break to exit a loop\n",
    "msg = \"\\n What cities have you visited?\"\n",
    "msg = \"\\n Enter quit when you are done with it...\"\n",
    "\n",
    "while True:\n",
    "    city = input(msg)\n",
    "    \n",
    "    if city == 'quit':\n",
    "        break\n",
    "    else:\n",
    "        print(\"I'v been to \" + city + \"!\")"
   ]
  },
  {
   "cell_type": "code",
   "execution_count": null,
   "id": "e13f4e76",
   "metadata": {},
   "outputs": [],
   "source": []
  }
 ],
 "metadata": {
  "kernelspec": {
   "display_name": "Python 3",
   "language": "python",
   "name": "python3"
  }
 },
 "nbformat": 4,
 "nbformat_minor": 5
}
